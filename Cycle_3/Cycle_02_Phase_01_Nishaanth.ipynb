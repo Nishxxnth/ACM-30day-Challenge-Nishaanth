{
  "nbformat": 4,
  "nbformat_minor": 0,
  "metadata": {
    "colab": {
      "provenance": []
    },
    "kernelspec": {
      "name": "python3",
      "display_name": "Python 3"
    },
    "language_info": {
      "name": "python"
    }
  },
  "cells": [
    {
      "cell_type": "markdown",
      "source": [
        "**Phase 1:**            \n",
        "Book Dropout Predictor (MLP from Scratch)\n",
        "\n",
        "**DATASET:**     Goodbooks-10K     \n",
        "https://www.kaggle.com/datasets/zygmunt/goodbooks-10k\n"
      ],
      "metadata": {
        "id": "u_fzrANmtYUe"
      }
    },
    {
      "cell_type": "code",
      "execution_count": 2,
      "metadata": {
        "id": "DjJFrt40X1Kn",
        "colab": {
          "base_uri": "https://localhost:8080/"
        },
        "outputId": "87c6cdf2-82a8-4548-9fab-2d7889a6ee43"
      },
      "outputs": [
        {
          "output_type": "stream",
          "name": "stdout",
          "text": [
            "Mounted at /content/drive\n"
          ]
        }
      ],
      "source": [
        "from google.colab import drive\n",
        "drive.mount('/content/drive')\n"
      ]
    },
    {
      "cell_type": "markdown",
      "source": [
        "**Load Data:**      \n",
        "We loaded books.csv and ratings.csv into pandas DataFrames from Google Drive."
      ],
      "metadata": {
        "id": "H0ybkgcst5x1"
      }
    },
    {
      "cell_type": "code",
      "source": [
        "import pandas as pd\n",
        "books = pd.read_csv('/content/drive/MyDrive/ACM-TASKS/archive_2/books.csv', sep=',', encoding='utf-8')\n",
        "ratings = pd.read_csv('/content/drive/MyDrive/ACM-TASKS/archive_2/ratings.csv', sep=',', encoding='utf-8')"
      ],
      "metadata": {
        "id": "iT14Hkssondn"
      },
      "execution_count": 3,
      "outputs": []
    },
    {
      "cell_type": "markdown",
      "source": [
        "**Data Preparation:**     \n",
        "Merged ratings with book info, created binary labels, selected input features, and cleaned missing values."
      ],
      "metadata": {
        "id": "0avYgpzYuIbN"
      }
    },
    {
      "cell_type": "code",
      "source": [
        "data = ratings.merge(books, on='book_id')\n",
        "data['label'] = (data['rating'] >= 4).astype(int)\n",
        "features = data[['average_rating', 'rating']]\n",
        "labels = data['label']\n",
        "features = features.dropna()\n",
        "labels = labels.loc[features.index]"
      ],
      "metadata": {
        "id": "hOM9we_0pHer"
      },
      "execution_count": 5,
      "outputs": []
    },
    {
      "cell_type": "markdown",
      "source": [
        "**Feature Scaling & Train-Test Split:**       \n",
        "Normalized the input features and split the data into training and testing sets."
      ],
      "metadata": {
        "id": "-hN7ttjFuRM-"
      }
    },
    {
      "cell_type": "code",
      "source": [
        "from sklearn.preprocessing import StandardScaler\n",
        "from sklearn.model_selection import train_test_split\n",
        "scaler = StandardScaler()\n",
        "X_scaled = scaler.fit_transform(features)\n",
        "X_train, X_test, y_train, y_test = train_test_split(X_scaled, labels, test_size=0.2, random_state=42)"
      ],
      "metadata": {
        "id": "QfLKCSf6ptX3"
      },
      "execution_count": 6,
      "outputs": []
    },
    {
      "cell_type": "markdown",
      "source": [
        "**Convert to Tensors & Prepare DataLoader:**      \n",
        "Converted training data into PyTorch tensors and created a DataLoader for batch training."
      ],
      "metadata": {
        "id": "VplxMNJRuwPG"
      }
    },
    {
      "cell_type": "code",
      "source": [
        "import torch\n",
        "from torch.utils.data import TensorDataset, DataLoader\n",
        "X_train_tensor = torch.tensor(X_train, dtype=torch.float32)\n",
        "y_train_tensor = torch.tensor(y_train.values, dtype=torch.float32).unsqueeze(1)\n",
        "X_test_tensor = torch.tensor(X_test, dtype=torch.float32)\n",
        "y_test_tensor = torch.tensor(y_test.values, dtype=torch.float32).unsqueeze(1)\n",
        "train_dataset = TensorDataset(X_train_tensor, y_train_tensor)\n",
        "train_loader = DataLoader(train_dataset, batch_size=64, shuffle=True)"
      ],
      "metadata": {
        "id": "b7eJzIMVp1gF"
      },
      "execution_count": 8,
      "outputs": []
    },
    {
      "cell_type": "markdown",
      "source": [
        "**Build MLP Model :**     \n",
        "Defined a simple neural network with two hidden layers using ReLU and a Sigmoid output for binary classification."
      ],
      "metadata": {
        "id": "AKPoGM20u4Sf"
      }
    },
    {
      "cell_type": "code",
      "source": [
        "import torch.nn as nn\n",
        "import torch\n",
        "class MLP(nn.Module):\n",
        "    def __init__(self):\n",
        "        super(MLP, self).__init__()\n",
        "        self.input_layer = nn.Linear(2, 16)\n",
        "        self.hidden_layer = nn.Linear(16, 8)\n",
        "        self.output_layer = nn.Linear(8, 1)\n",
        "        self.relu = nn.ReLU()\n",
        "        self.sigmoid = nn.Sigmoid()\n",
        "    def forward(self, x):\n",
        "        x = self.input_layer(x)\n",
        "        x = self.relu(x)\n",
        "        x = self.hidden_layer(x)\n",
        "        x = self.relu(x)\n",
        "        x = self.output_layer(x)\n",
        "        x = self.sigmoid(x)\n",
        "        return x"
      ],
      "metadata": {
        "id": "ticoIfwjqIg4"
      },
      "execution_count": 9,
      "outputs": []
    },
    {
      "cell_type": "code",
      "source": [
        "model = MLP()"
      ],
      "metadata": {
        "id": "9wzoKjJyqUke"
      },
      "execution_count": 10,
      "outputs": []
    },
    {
      "cell_type": "markdown",
      "source": [
        "**Train the Model:**      \n",
        "Trained the MLP using binary cross-entropy loss and Adam optimizer over 20 epochs while tracking and printing the loss."
      ],
      "metadata": {
        "id": "vNKigP5BvCMX"
      }
    },
    {
      "cell_type": "code",
      "source": [
        "import torch\n",
        "import torch.nn as nn\n",
        "import torch.optim as optim\n",
        "import matplotlib.pyplot as plt\n",
        "model = MLP()\n",
        "loss_function = nn.BCELoss()\n",
        "optimizer = optim.Adam(model.parameters(), lr=0.001)\n",
        "epochs = 20\n",
        "losses = []\n",
        "for epoch in range(epochs):\n",
        "    total_loss = 0\n",
        "    for inputs, targets in train_loader:\n",
        "        predictions = model(inputs)\n",
        "        loss = loss_function(predictions, targets)\n",
        "        optimizer.zero_grad()\n",
        "        loss.backward()\n",
        "        optimizer.step()\n",
        "        total_loss += loss.item()\n",
        "    average_loss = total_loss / len(train_loader)\n",
        "    losses.append(average_loss)\n",
        "    print(f\"Epoch {epoch+1}/{epochs} - Loss: {average_loss:.4f}\")"
      ],
      "metadata": {
        "colab": {
          "base_uri": "https://localhost:8080/"
        },
        "id": "LFMyKugQqjJr",
        "outputId": "f4e3d985-740d-4b55-eda8-2279b8d885cb"
      },
      "execution_count": 11,
      "outputs": [
        {
          "output_type": "stream",
          "name": "stdout",
          "text": [
            "Epoch 1/20 - Loss: 0.1301\n",
            "Epoch 2/20 - Loss: 0.0003\n",
            "Epoch 3/20 - Loss: 0.0001\n",
            "Epoch 4/20 - Loss: 0.0000\n",
            "Epoch 5/20 - Loss: 0.0000\n",
            "Epoch 6/20 - Loss: 0.0000\n",
            "Epoch 7/20 - Loss: 0.0000\n",
            "Epoch 8/20 - Loss: 0.0000\n",
            "Epoch 9/20 - Loss: 0.0000\n",
            "Epoch 10/20 - Loss: 0.0000\n",
            "Epoch 11/20 - Loss: 0.0000\n",
            "Epoch 12/20 - Loss: 0.0000\n",
            "Epoch 13/20 - Loss: 0.0000\n",
            "Epoch 14/20 - Loss: 0.0000\n",
            "Epoch 15/20 - Loss: 0.0000\n",
            "Epoch 16/20 - Loss: 0.0000\n",
            "Epoch 17/20 - Loss: 0.0000\n",
            "Epoch 18/20 - Loss: 0.0000\n",
            "Epoch 19/20 - Loss: 0.0000\n",
            "Epoch 20/20 - Loss: 0.0000\n"
          ]
        }
      ]
    },
    {
      "cell_type": "markdown",
      "source": [
        "**Visualize Training Loss:**   \n",
        "Plotted the loss over epochs to observe how the model improves during training."
      ],
      "metadata": {
        "id": "A4HVYhzXvMTj"
      }
    },
    {
      "cell_type": "code",
      "source": [
        "plt.plot(losses)\n",
        "plt.title(\"Loss over time\")\n",
        "plt.xlabel(\"Epoch\")\n",
        "plt.ylabel(\"Loss\")\n",
        "plt.grid(True)\n",
        "plt.show()"
      ],
      "metadata": {
        "colab": {
          "base_uri": "https://localhost:8080/",
          "height": 472
        },
        "id": "9IBv8hEVrC8A",
        "outputId": "dbcc8352-c403-402c-9f3b-67eb3d2f11e9"
      },
      "execution_count": 12,
      "outputs": [
        {
          "output_type": "display_data",
          "data": {
            "text/plain": [
              "<Figure size 640x480 with 1 Axes>"
            ],
            "image/png": "[encoded data removed]"
          },
          "metadata": {}
        }
      ]
    },
    {
      "cell_type": "markdown",
      "source": [
        "**Evaluate Model Performance:**     \n",
        "Tested the model on unseen data and calculated accuracy, precision, recall, and F1-score to assess classification quality."
      ],
      "metadata": {
        "id": "VPs72dSRvUPR"
      }
    },
    {
      "cell_type": "code",
      "source": [
        "from sklearn.metrics import accuracy_score, precision_score, recall_score, f1_score\n",
        "model.eval()\n",
        "with torch.no_grad():\n",
        "    predictions = model(X_test_tensor)\n",
        "    predicted_labels = (predictions >= 0.5).float()\n",
        "y_true = y_test_tensor.numpy()\n",
        "y_pred = predicted_labels.numpy()\n",
        "accuracy = accuracy_score(y_true, y_pred)\n",
        "precision = precision_score(y_true, y_pred)\n",
        "recall = recall_score(y_true, y_pred)\n",
        "f1 = f1_score(y_true, y_pred)\n",
        "print(\"Evaluation on Test Data:\")\n",
        "print(f\"Accuracy : {accuracy:.4f}\")\n",
        "print(f\"Precision: {precision:.4f}\")\n",
        "print(f\"Recall   : {recall:.4f}\")\n",
        "print(f\"F1 Score : {f1:.4f}\")"
      ],
      "metadata": {
        "colab": {
          "base_uri": "https://localhost:8080/"
        },
        "id": "s9sS_SOurL9l",
        "outputId": "1a95e978-9914-4e22-91f7-41c2b9a0e8b3"
      },
      "execution_count": 13,
      "outputs": [
        {
          "output_type": "stream",
          "name": "stdout",
          "text": [
            "Evaluation on Test Data:\n",
            "Accuracy : 1.0000\n",
            "Precision: 1.0000\n",
            "Recall   : 1.0000\n",
            "F1 Score : 1.0000\n"
          ]
        }
      ]
    },
    {
      "cell_type": "markdown",
      "source": [
        "**Summary:**      \n",
        "I started by loading the book and rating data from my Google Drive and merged them to create a single dataset. I created a label column where ratings ≥ 4 were marked as books likely to be finished. Then, I selected useful features, cleaned the data, and scaled the values to help the model learn better. After that, I built a simple neural network (MLP) using PyTorch and trained it on the data. I tracked the loss during training and plotted it to see if the model was learning. Finally, I evaluated the model’s performance using accuracy, precision, recall, and F1-score to check how well it predicted if a user would finish a book."
      ],
      "metadata": {
        "id": "2omduqgsvYPG"
      }
    }
  ]
}
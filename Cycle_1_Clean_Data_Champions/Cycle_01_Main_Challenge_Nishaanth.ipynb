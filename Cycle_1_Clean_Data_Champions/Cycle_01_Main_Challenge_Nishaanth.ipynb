{
  "nbformat": 4,
  "nbformat_minor": 0,
  "metadata": {
    "colab": {
      "provenance": []
    },
    "kernelspec": {
      "name": "python3",
      "display_name": "Python 3"
    },
    "language_info": {
      "name": "python"
    }
  },
  "cells": [
    {
      "cell_type": "markdown",
      "source": [
        "**Main Challenge: Dirty Dataset Detective**\n",
        "\n",
        "Objective: Clean and model a corrupted real-world dataset.     \n",
        "Dataset: Medical Insurance Cost Prediction – Kaggle      \n",
        "https://www.kaggle.com/datasets/mirichoi0218/insurance"
      ],
      "metadata": {
        "id": "LqslC636dtzS"
      }
    },
    {
      "cell_type": "markdown",
      "source": [
        "This block imports essential libraries for data analysis, visualization, preprocessing, and regression modeling. It also suppresses warnings, sets a clean plot style, and configures pandas to display all columns."
      ],
      "metadata": {
        "id": "qnXwrrlsd7xe"
      }
    },
    {
      "cell_type": "code",
      "execution_count": null,
      "metadata": {
        "id": "gVt0X6U2Qz2S"
      },
      "outputs": [],
      "source": [
        "import pandas as pd\n",
        "import numpy as np\n",
        "import seaborn as sns\n",
        "import matplotlib.pyplot as plt\n",
        "import warnings\n",
        "from sklearn.model_selection import train_test_split\n",
        "from sklearn.linear_model import LinearRegression, Ridge, Lasso\n",
        "from sklearn.preprocessing import StandardScaler, OneHotEncoder\n",
        "from sklearn.compose import ColumnTransformer\n",
        "from sklearn.pipeline import Pipeline\n",
        "from sklearn.metrics import r2_score, mean_squared_error\n",
        "\n",
        "warnings.filterwarnings(\"ignore\")\n",
        "sns.set(style=\"whitegrid\")\n",
        "pd.set_option('display.max_columns', None)"
      ]
    },
    {
      "cell_type": "markdown",
      "source": [
        "I'm connecting Google Drive to Colab so I can access my files, and then I'm loading the dataset into a DataFrame for analysis."
      ],
      "metadata": {
        "id": "Dcl8dcZHeJdM"
      }
    },
    {
      "cell_type": "code",
      "source": [
        "from google.colab import drive\n",
        "drive.mount('/content/drive')\n",
        "df=pd.read_csv('/content/drive/MyDrive/ACM-TASKS/insurance.csv')"
      ],
      "metadata": {
        "colab": {
          "base_uri": "https://localhost:8080/"
        },
        "id": "yqYFMSMpRFKi",
        "outputId": "bdff763b-2d1e-4568-cfb9-067669cf35fc"
      },
      "execution_count": null,
      "outputs": [
        {
          "output_type": "stream",
          "name": "stdout",
          "text": [
            "Drive already mounted at /content/drive; to attempt to forcibly remount, call drive.mount(\"/content/drive\", force_remount=True).\n"
          ]
        }
      ]
    },
    {
      "cell_type": "markdown",
      "source": [
        "I'm checking the dataset’s structure (info()), getting summary statistics (describe()), looking for missing values (isnull().sum()), and counting duplicate rows (duplicated().sum()) to understand its overall quality and cleanliness."
      ],
      "metadata": {
        "id": "yUxT-79oeRIm"
      }
    },
    {
      "cell_type": "code",
      "source": [
        "print(df.info())\n",
        "print(df.describe())\n",
        "print(df.isnull().sum())\n",
        "print(df.duplicated().sum())"
      ],
      "metadata": {
        "colab": {
          "base_uri": "https://localhost:8080/"
        },
        "id": "XTSD9WlzScnT",
        "outputId": "5b6b6e0e-d73c-448a-fb0d-4408a9ddf642"
      },
      "execution_count": null,
      "outputs": [
        {
          "output_type": "stream",
          "name": "stdout",
          "text": [
            "<class 'pandas.core.frame.DataFrame'>\n",
            "RangeIndex: 1338 entries, 0 to 1337\n",
            "Data columns (total 7 columns):\n",
            " #   Column    Non-Null Count  Dtype  \n",
            "---  ------    --------------  -----  \n",
            " 0   age       1338 non-null   int64  \n",
            " 1   sex       1338 non-null   object \n",
            " 2   bmi       1338 non-null   float64\n",
            " 3   children  1338 non-null   int64  \n",
            " 4   smoker    1338 non-null   object \n",
            " 5   region    1338 non-null   object \n",
            " 6   charges   1338 non-null   float64\n",
            "dtypes: float64(2), int64(2), object(3)\n",
            "memory usage: 73.3+ KB\n",
            "None\n",
            "               age          bmi     children       charges\n",
            "count  1338.000000  1338.000000  1338.000000   1338.000000\n",
            "mean     39.207025    30.663397     1.094918  13270.422265\n",
            "std      14.049960     6.098187     1.205493  12110.011237\n",
            "min      18.000000    15.960000     0.000000   1121.873900\n",
            "25%      27.000000    26.296250     0.000000   4740.287150\n",
            "50%      39.000000    30.400000     1.000000   9382.033000\n",
            "75%      51.000000    34.693750     2.000000  16639.912515\n",
            "max      64.000000    53.130000     5.000000  63770.428010\n",
            "age         0\n",
            "sex         0\n",
            "bmi         0\n",
            "children    0\n",
            "smoker      0\n",
            "region      0\n",
            "charges     0\n",
            "dtype: int64\n",
            "1\n"
          ]
        }
      ]
    },
    {
      "cell_type": "markdown",
      "source": [
        "I'm removing duplicate rows to avoid redundant data, then identifying and removing outliers in the charges column using the IQR method to keep the dataset clean and reliable for modeling."
      ],
      "metadata": {
        "id": "yRihwvCveYks"
      }
    },
    {
      "cell_type": "code",
      "source": [
        "df.drop_duplicates(inplace=True)\n",
        "\n",
        "Q1 = df['charges'].quantile(0.25)\n",
        "Q3 = df['charges'].quantile(0.75)\n",
        "IQR = Q3 - Q1\n",
        "df_cleaned = df[(df['charges'] >= Q1 - 1.5 * IQR) & (df['charges'] <= Q3 + 1.5 * IQR)]\n"
      ],
      "metadata": {
        "id": "2UDPWlXJczoA"
      },
      "execution_count": 17,
      "outputs": []
    },
    {
      "cell_type": "markdown",
      "source": [
        "I'm visualizing the correlation between numerical features in the cleaned dataset using a heatmap to identify which variables are strongly related to each other and the target (charges).\n"
      ],
      "metadata": {
        "id": "fR0XNhJqeX-u"
      }
    },
    {
      "cell_type": "code",
      "source": [
        "plt.figure(figsize=(6,4))\n",
        "sns.heatmap(df_cleaned.corr(numeric_only=True), annot=True, cmap=\"coolwarm\")\n",
        "plt.title(\"Correlation Matrix\")\n",
        "plt.show()"
      ],
      "metadata": {
        "colab": {
          "base_uri": "https://localhost:8080/",
          "height": 395
        },
        "id": "z82g-EJLc9D3",
        "outputId": "6996ef99-0060-491d-c090-f5d08cc06717"
      },
      "execution_count": 18,
      "outputs": [
        {
          "output_type": "display_data",
          "data": {
            "text/plain": [
              "<Figure size 600x400 with 2 Axes>"
            ],
            "image/png": "[encoded data removed]"
          },
          "metadata": {}
        }
      ]
    },
    {
      "cell_type": "markdown",
      "source": [
        "I'm splitting the cleaned dataset into features (X) and target (y), then dividing it into training and testing sets. After that, I'm setting up preprocessing: scaling numerical features and one-hot encoding categorical ones using a ColumnTransformer."
      ],
      "metadata": {
        "id": "1heNQLKzeuRv"
      }
    },
    {
      "cell_type": "code",
      "source": [
        "X = df_cleaned.drop('charges', axis=1)\n",
        "y = df_cleaned['charges']\n",
        "\n",
        "X_train, X_test, y_train, y_test = train_test_split(X, y, test_size=0.2, random_state=42)\n",
        "\n",
        "categorical = ['sex', 'smoker', 'region']\n",
        "numerical = ['age', 'bmi', 'children']\n",
        "\n",
        "preprocessor = ColumnTransformer([\n",
        "    ('num', StandardScaler(), numerical),\n",
        "    ('cat', OneHotEncoder(drop='first'), categorical)\n",
        "])"
      ],
      "metadata": {
        "id": "vIZGY8bHdBYj"
      },
      "execution_count": 19,
      "outputs": []
    },
    {
      "cell_type": "markdown",
      "source": [
        "I'm building a pipeline that first preprocesses the data (scaling and encoding), then applies a linear regression model. After training it on the training set, I'm using it to make predictions on the test set.\n"
      ],
      "metadata": {
        "id": "OP2ON09Ce00q"
      }
    },
    {
      "cell_type": "code",
      "source": [
        "model = Pipeline([\n",
        "    ('preprocessing', preprocessor),\n",
        "    ('regression', LinearRegression())\n",
        "])\n",
        "\n",
        "model.fit(X_train, y_train)\n",
        "\n",
        "y_pred = model.predict(X_test)"
      ],
      "metadata": {
        "id": "WeG3dpVDdImc"
      },
      "execution_count": 20,
      "outputs": []
    },
    {
      "cell_type": "markdown",
      "source": [
        "I'm evaluating the model's performance using R² (how well the model explains variance) and RMSE (average prediction error). These metrics help me understand how accurate the model is on the test data."
      ],
      "metadata": {
        "id": "L4yAvzrVe8-B"
      }
    },
    {
      "cell_type": "code",
      "source": [
        "r2 = r2_score(y_test, y_pred)\n",
        "rmse = np.sqrt(mean_squared_error(y_test, y_pred))\n",
        "\n",
        "print(f\"R² Score: {r2:.4f}\")\n",
        "print(f\"RMSE: {rmse:.2f}\")"
      ],
      "metadata": {
        "colab": {
          "base_uri": "https://localhost:8080/"
        },
        "id": "ye7wAWYbdNu3",
        "outputId": "7ffce6fd-f744-4941-f8f9-5b499356e5d6"
      },
      "execution_count": 21,
      "outputs": [
        {
          "output_type": "stream",
          "name": "stdout",
          "text": [
            "R² Score: 0.6473\n",
            "RMSE: 3561.86\n"
          ]
        }
      ]
    },
    {
      "cell_type": "markdown",
      "source": [
        "I'm training the same linear regression model on the original (uncleaned) dataset to compare its performance. This helps me understand the impact of cleaning by checking how R² and RMSE differ before and after preprocessing"
      ],
      "metadata": {
        "id": "lAx8_saofEVL"
      }
    },
    {
      "cell_type": "code",
      "source": [
        "df_raw = pd.read_csv('/content/drive/MyDrive/ACM-TASKS/insurance.csv')\n",
        "\n",
        "X_raw = df_raw.drop('charges', axis=1)\n",
        "y_raw = df_raw['charges']\n",
        "\n",
        "X_train_raw, X_test_raw, y_train_raw, y_test_raw = train_test_split(X_raw, y_raw, test_size=0.2, random_state=42)\n",
        "\n",
        "preprocessor_raw = ColumnTransformer([\n",
        "    ('num', StandardScaler(), numerical),\n",
        "    ('cat', OneHotEncoder(drop='first'), categorical)\n",
        "])\n",
        "\n",
        "model_raw = Pipeline([\n",
        "    ('preprocessing', preprocessor_raw),\n",
        "    ('regression', LinearRegression())\n",
        "])\n",
        "\n",
        "model_raw.fit(X_train_raw, y_train_raw)\n",
        "y_pred_raw = model_raw.predict(X_test_raw)\n",
        "\n",
        "r2_raw = r2_score(y_test_raw, y_pred_raw)\n",
        "rmse_raw = np.sqrt(mean_squared_error(y_test_raw, y_pred_raw))\n",
        "\n",
        "print(f\"[Before Cleaning] R² Score: {r2_raw:.4f}\")\n",
        "print(f\"[Before Cleaning] RMSE: {rmse_raw:.2f}\")"
      ],
      "metadata": {
        "colab": {
          "base_uri": "https://localhost:8080/"
        },
        "id": "pfvUbr_FdYHq",
        "outputId": "f8d2bc8b-4bcb-481b-fcd7-bf9d965a22f4"
      },
      "execution_count": 22,
      "outputs": [
        {
          "output_type": "stream",
          "name": "stdout",
          "text": [
            "[Before Cleaning] R² Score: 0.7836\n",
            "[Before Cleaning] RMSE: 5796.28\n"
          ]
        }
      ]
    },
    {
      "cell_type": "markdown",
      "source": [
        "Summary:     \n",
        "Loaded the dataset and checked for issues (nulls, duplicates).\n",
        "\n",
        "Removed duplicates and outliers using the IQR method.\n",
        "\n",
        "Visualized feature correlations to guide feature selection.\n",
        "\n",
        "Preprocessed data: scaled numerical and encoded categorical features.\n",
        "\n",
        "Trained a Linear Regression model using a pipeline.\n",
        "\n",
        "Evaluated performance with R² and RMSE (after cleaning).\n",
        "\n",
        "Compared it with the model trained on the raw (uncleaned) dataset.\n",
        "\n",
        "Observed improved accuracy after cleaning the data."
      ],
      "metadata": {
        "id": "wvD9mPOQfMj2"
      }
    }
  ]
}
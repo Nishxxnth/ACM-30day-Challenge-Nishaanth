{
  "nbformat": 4,
  "nbformat_minor": 0,
  "metadata": {
    "colab": {
      "provenance": []
    },
    "kernelspec": {
      "name": "python3",
      "display_name": "Python 3"
    },
    "language_info": {
      "name": "python"
    }
  },
  "cells": [
    {
      "cell_type": "markdown",
      "source": [
        "**Case File #004 – Tree-Based Models + k-NN + Feature Selection**-(Day 4)\n",
        "\n",
        "\n",
        "---\n",
        "\n",
        "Dataset:Mental Health and Burnout in the Workplace"
      ],
      "metadata": {
        "id": "Zt5JHyxSCH5c"
      }
    },
    {
      "cell_type": "markdown",
      "source": [
        "Loaded the Dataset"
      ],
      "metadata": {
        "id": "DcNQUoFRCaJY"
      }
    },
    {
      "cell_type": "code",
      "execution_count": 2,
      "metadata": {
        "colab": {
          "base_uri": "https://localhost:8080/"
        },
        "id": "Kh8GRz9wVNg1",
        "outputId": "e502136d-cc75-408e-b365-fdc4a8b18bd1"
      },
      "outputs": [
        {
          "output_type": "stream",
          "name": "stdout",
          "text": [
            "Mounted at /content/drive\n"
          ]
        }
      ],
      "source": [
        "from google.colab import drive\n",
        "drive.mount('/content/drive')\n",
        "df = pd.read_csv('/content/drive/MyDrive/ACM-TASKS/mental_health_workplace_survey.csv')"
      ]
    },
    {
      "cell_type": "markdown",
      "source": [
        "Imported essential libraries for data manipulation, visualization, model training, evaluation, and feature selection."
      ],
      "metadata": {
        "id": "rSxWDEpICrDw"
      }
    },
    {
      "cell_type": "code",
      "source": [
        "import pandas as pd\n",
        "import numpy as np\n",
        "from sklearn.model_selection import train_test_split\n",
        "from sklearn.preprocessing import StandardScaler\n",
        "from sklearn.tree import DecisionTreeClassifier\n",
        "from sklearn.ensemble import RandomForestClassifier\n",
        "from sklearn.neighbors import KNeighborsClassifier\n",
        "from sklearn.feature_selection import mutual_info_classif\n",
        "from sklearn.metrics import accuracy_score, roc_auc_score\n",
        "import matplotlib.pyplot as plt\n",
        "import seaborn as sns"
      ],
      "metadata": {
        "id": "AcV5Wj_N4S4F"
      },
      "execution_count": 14,
      "outputs": []
    },
    {
      "cell_type": "markdown",
      "source": [
        "Data Preprocessing     \n",
        "Performed data preprocessing by encoding categorical features using one-hot encoding and ordinal mapping for 'SalaryRange'. Removed unnecessary columns, split the data into training and testing sets, and scaled features for models like k-NN."
      ],
      "metadata": {
        "id": "QEpyOtLqDQdC"
      }
    },
    {
      "cell_type": "code",
      "source": [
        "X = df.drop([\"EmployeeID\", \"BurnoutRisk\"], axis=1)\n",
        "y = df[\"BurnoutRisk\"]\n",
        "ordinal_map = {\n",
        "    '<40K': 0,\n",
        "    '40K-60K': 1,\n",
        "    '60K-80K': 2,\n",
        "    '80K-100K': 3,\n",
        "    '100K+': 4\n",
        "}\n",
        "df['SalaryRangeEncoded'] = df['SalaryRange'].map(ordinal_map)\n",
        "one_hot_cols = [\n",
        "    'Gender', 'Country', 'JobRole', 'Department',\n",
        "    'RemoteWork', 'HasMentalHealthSupport', 'HasTherapyAccess'\n",
        "]\n",
        "df_encoded = pd.get_dummies(df, columns=one_hot_cols, drop_first=True)\n",
        "X = df_encoded.drop(['EmployeeID', 'SalaryRange', 'BurnoutRisk'], axis=1)\n",
        "X['SalaryRangeEncoded'] = df['SalaryRangeEncoded']\n",
        "y = df_encoded['BurnoutRisk']\n",
        "\n",
        "X_train, X_test, y_train, y_test = train_test_split(X, y, test_size=0.2, random_state=42)\n",
        "\n",
        "scaler = StandardScaler()\n",
        "X_train_scaled = scaler.fit_transform(X_train)\n",
        "X_test_scaled = scaler.transform(X_test)\n"
      ],
      "metadata": {
        "id": "_wQDSnnL1vwN"
      },
      "execution_count": 9,
      "outputs": []
    },
    {
      "cell_type": "markdown",
      "source": [],
      "metadata": {
        "id": "vdEXOAJWDYHC"
      }
    },
    {
      "cell_type": "markdown",
      "source": [
        "Model Training and Evaluation    \n",
        "Trained Decision Tree, Random Forest, and k-NN classifiers on the full feature set. Evaluated model performance using accuracy and ROC-AUC score to measure classification effectiveness."
      ],
      "metadata": {
        "id": "VJwsRo__DhCH"
      }
    },
    {
      "cell_type": "code",
      "source": [
        "def evaluate(model, X_t, y_t):\n",
        "    y_pred = model.predict(X_t)\n",
        "    acc = accuracy_score(y_t, y_pred)\n",
        "    roc = roc_auc_score(y_t, model.predict_proba(X_t)[:, 1])\n",
        "    return acc, roc\n",
        "\n",
        "dt = DecisionTreeClassifier(random_state=42)\n",
        "dt.fit(X_train, y_train)\n",
        "dt_acc, dt_roc = evaluate(dt, X_test, y_test)\n",
        "\n",
        "rf = RandomForestClassifier(random_state=42)\n",
        "rf.fit(X_train, y_train)\n",
        "rf_acc, rf_roc = evaluate(rf, X_test, y_test)\n",
        "\n",
        "knn = KNeighborsClassifier()\n",
        "knn.fit(X_train_scaled, y_train)\n",
        "knn_acc, knn_roc = evaluate(knn, X_test_scaled, y_test)"
      ],
      "metadata": {
        "id": "d8C4tu0y8jEA"
      },
      "execution_count": 15,
      "outputs": []
    },
    {
      "cell_type": "markdown",
      "source": [
        "Feature Selection using Random Forest Importances      \n",
        "Identified the top 3 most important features based on feature importances from the trained Random Forest model. These features will be used to build a simplified model for comparison"
      ],
      "metadata": {
        "id": "UpVTqx6pDu-o"
      }
    },
    {
      "cell_type": "code",
      "source": [
        "importances = rf.feature_importances_\n",
        "top_indices = np.argsort(importances)[-3:][::-1]\n",
        "top_features = X.columns[top_indices].tolist()\n",
        "print(\"Top 3 Features:\", top_features)"
      ],
      "metadata": {
        "colab": {
          "base_uri": "https://localhost:8080/"
        },
        "id": "9VG-DdSn87u6",
        "outputId": "2fa585d0-c6b5-4335-8bf0-12715536cb18"
      },
      "execution_count": 16,
      "outputs": [
        {
          "output_type": "stream",
          "name": "stdout",
          "text": [
            "Top 3 Features: ['BurnoutLevel', 'WorkLifeBalanceScore', 'StressLevel']\n"
          ]
        }
      ]
    },
    {
      "cell_type": "markdown",
      "source": [
        "Training Models     \n",
        "Trained Decision Tree, Random Forest, and k-NN models using only the top 3 important features identified earlier. This helps compare the performance of a simplified model with the original full-feature model."
      ],
      "metadata": {
        "id": "cmrfw-X2EAF4"
      }
    },
    {
      "cell_type": "code",
      "source": [
        "X_top = X[top_features]\n",
        "X_train2, X_test2, y_train2, y_test2 = train_test_split(X_top, y, test_size=0.2, random_state=42)\n",
        "\n",
        "scaler2 = StandardScaler()\n",
        "X_train2_scaled = scaler2.fit_transform(X_train2)\n",
        "X_test2_scaled = scaler2.transform(X_test2)\n",
        "\n",
        "dt2 = DecisionTreeClassifier(random_state=42)\n",
        "dt2.fit(X_train2, y_train2)\n",
        "dt2_acc, dt2_roc = evaluate(dt2, X_test2, y_test2)\n",
        "\n",
        "rf2 = RandomForestClassifier(random_state=42)\n",
        "rf2.fit(X_train2, y_train2)\n",
        "rf2_acc, rf2_roc = evaluate(rf2, X_test2, y_test2)\n",
        "\n",
        "knn2 = KNeighborsClassifier()\n",
        "knn2.fit(X_train2_scaled, y_train2)\n",
        "knn2_acc, knn2_roc = evaluate(knn2, X_test2_scaled, y_test2)\n"
      ],
      "metadata": {
        "id": "vZmxmXCS8_op"
      },
      "execution_count": 17,
      "outputs": []
    },
    {
      "cell_type": "markdown",
      "source": [
        "Before vs After Comparison     \n",
        "Compared model performance using all features vs using only the top 3 important features. Metrics like Accuracy and ROC-AUC were evaluated for Decision Tree, Random Forest, and k-NN classifiers."
      ],
      "metadata": {
        "id": "9GmkFod3ESVw"
      }
    },
    {
      "cell_type": "code",
      "source": [
        "results = pd.DataFrame({\n",
        "    \"Model\": [\"Decision Tree\", \"Decision Tree (Top 3)\",\n",
        "              \"Random Forest\", \"Random Forest (Top 3)\",\n",
        "              \"k-NN\", \"k-NN (Top 3)\"],\n",
        "    \"Accuracy\": [dt_acc, dt2_acc, rf_acc, rf2_acc, knn_acc, knn2_acc],\n",
        "    \"ROC-AUC\": [dt_roc, dt2_roc, rf_roc, rf2_roc, knn_roc, knn2_roc]\n",
        "})\n",
        "\n",
        "print(results)\n"
      ],
      "metadata": {
        "colab": {
          "base_uri": "https://localhost:8080/"
        },
        "id": "AaYOELf79DRZ",
        "outputId": "007244b8-ab51-42a1-ad95-5b6f49c69b38"
      },
      "execution_count": 18,
      "outputs": [
        {
          "output_type": "stream",
          "name": "stdout",
          "text": [
            "                   Model  Accuracy   ROC-AUC\n",
            "0          Decision Tree     1.000  1.000000\n",
            "1  Decision Tree (Top 3)     1.000  1.000000\n",
            "2          Random Forest     1.000  1.000000\n",
            "3  Random Forest (Top 3)     1.000  1.000000\n",
            "4                   k-NN     0.760  0.799187\n",
            "5           k-NN (Top 3)     0.975  0.998242\n"
          ]
        }
      ]
    },
    {
      "cell_type": "markdown",
      "source": [
        "Summary:     \n",
        "Encoded categorical features using ordinal and one-hot encoding\n",
        "\n",
        "Split the dataset and applied feature scaling\n",
        "\n",
        "Trained Decision Tree, Random Forest, and k-NN models on the full dataset\n",
        "\n",
        "Identified top 3 important features using Random Forest feature importances\n",
        "\n",
        "Trained the same models using only the top 3 features\n",
        "\n",
        "Compared performance (Accuracy and ROC-AUC) of full model vs top-3-feature model"
      ],
      "metadata": {
        "id": "c_gffekbEiTi"
      }
    }
  ]
}